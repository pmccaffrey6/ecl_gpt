{
 "cells": [
  {
   "cell_type": "code",
   "execution_count": 15,
   "id": "50f6e7b5-1124-4adf-9348-57eda8026a48",
   "metadata": {},
   "outputs": [
    {
     "data": {
      "text/plain": [
       "['../configs/config.ini']"
      ]
     },
     "execution_count": 15,
     "metadata": {},
     "output_type": "execute_result"
    }
   ],
   "source": [
    "import os\n",
    "from openai import AzureOpenAI\n",
    "\n",
    "import json\n",
    "\n",
    "import configparser\n",
    "config = configparser.ConfigParser()\n",
    "config.read('../configs/config.ini')"
   ]
  },
  {
   "cell_type": "code",
   "execution_count": 4,
   "id": "77550737-223b-4d1d-80c3-aa5f7bb59397",
   "metadata": {},
   "outputs": [],
   "source": [
    "client = AzureOpenAI(\n",
    "    api_key = config['AZUREOPENAI']['API_KEY'],\n",
    "    azure_endpoint = config['AZUREOPENAI']['ENDPOINT'],\n",
    "    api_version = \"2023-07-01-preview\"\n",
    ")"
   ]
  },
  {
   "cell_type": "code",
   "execution_count": 18,
   "id": "58232f5e-3d3e-49d3-a3c2-3dd4d641d9c9",
   "metadata": {},
   "outputs": [],
   "source": [
    "prompt = \"Hey\"\n",
    "\n",
    "chat_completion = client.chat.completions.create(\n",
    "    model=\"utmb-openai-gpt4-32k\", # model = \"deployment_name\".\n",
    "    messages=[{\"role\": \"user\", \"content\": prompt}],\n",
    "    temperature=0.7,\n",
    "    n=1,\n",
    "    top_p=1,\n",
    "    stop=None,\n",
    "    max_tokens=1024,\n",
    "    presence_penalty=0,\n",
    "    frequency_penalty=0,\n",
    "    logit_bias={}\n",
    ")"
   ]
  },
  {
   "cell_type": "code",
   "execution_count": 19,
   "id": "f12af164-4c81-4658-9a53-34ee5e774587",
   "metadata": {},
   "outputs": [
    {
     "data": {
      "text/plain": [
       "[{'finish_reason': 'stop',\n",
       "  'index': 0,\n",
       "  'message': {'content': 'Hello! How can I help you today?',\n",
       "   'role': 'assistant',\n",
       "   'function_call': None,\n",
       "   'tool_calls': None},\n",
       "  'content_filter_results': {'hate': {'filtered': False, 'severity': 'safe'},\n",
       "   'self_harm': {'filtered': False, 'severity': 'safe'},\n",
       "   'sexual': {'filtered': False, 'severity': 'safe'},\n",
       "   'violence': {'filtered': False, 'severity': 'safe'}}}]"
      ]
     },
     "execution_count": 19,
     "metadata": {},
     "output_type": "execute_result"
    }
   ],
   "source": [
    "json.loads(chat_completion.json())['choices']"
   ]
  },
  {
   "cell_type": "code",
   "execution_count": null,
   "id": "21e18ec8-3cac-4c82-856d-77152fc5e954",
   "metadata": {},
   "outputs": [],
   "source": []
  },
  {
   "cell_type": "code",
   "execution_count": null,
   "id": "ffdac31a-4120-4389-81f8-f56bc48630a2",
   "metadata": {},
   "outputs": [],
   "source": [
    "completion = client.completions.create(\n",
    "    model=\"gpt-35-turbo-instruct\", # This must match the custom deployment name you chose for your model.\n",
    "    prompt=\"<prompt>\"\n",
    ")\n",
    "\n",
    "chat_completion = client.chat.completions.create(\n",
    "    model=\"gpt-35-turbo\", # model = \"deployment_name\".\n",
    "    messages=\"<messages>\"\n",
    ")\n",
    "\n",
    "embedding = client.embeddings.create(\n",
    "    model=\"text-embedding-ada-002\", # model = \"deployment_name\".\n",
    "    input=\"<input>\"\n",
    ")"
   ]
  }
 ],
 "metadata": {
  "kernelspec": {
   "display_name": "Python 3 (ipykernel)",
   "language": "python",
   "name": "python3"
  },
  "language_info": {
   "codemirror_mode": {
    "name": "ipython",
    "version": 3
   },
   "file_extension": ".py",
   "mimetype": "text/x-python",
   "name": "python",
   "nbconvert_exporter": "python",
   "pygments_lexer": "ipython3",
   "version": "3.11.5"
  }
 },
 "nbformat": 4,
 "nbformat_minor": 5
}
