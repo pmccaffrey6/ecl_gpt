import os
from openai import AzureOpenAI

import json

import configparser
config = configparser.ConfigParser()
config.read('../configs/config.ini')


client = AzureOpenAI(
    api_key = config['AZUREOPENAI']['API_KEY'],
    azure_endpoint = config['AZUREOPENAI']['ENDPOINT'],
    api_version = "2023-07-01-preview"
)


prompt = "Hey"

chat_completion = client.chat.completions.create(
    model="utmb-openai-gpt4-32k", # model = "deployment_name".
    messages=[{"role": "user", "content": prompt}],
    temperature=0.7,
    n=1,
    top_p=1,
    stop=None,
    max_tokens=1024,
    presence_penalty=0,
    frequency_penalty=0,
    logit_bias={}
)


json.loads(chat_completion.json())['choices']





completion = client.completions.create(
    model="gpt-35-turbo-instruct", # This must match the custom deployment name you chose for your model.
    prompt="<prompt>"
)

chat_completion = client.chat.completions.create(
    model="gpt-35-turbo", # model = "deployment_name".
    messages="<messages>"
)

embedding = client.embeddings.create(
    model="text-embedding-ada-002", # model = "deployment_name".
    input="<input>"
)
